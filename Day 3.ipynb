{
 "cells": [
  {
   "cell_type": "markdown",
   "metadata": {},
   "source": [
    "### programming in python with strings\n",
    "- strings\n",
    "- string slicing \n",
    "- fundamental programs and examples with strings"
   ]
  },
  {
   "cell_type": "code",
   "execution_count": 8,
   "metadata": {},
   "outputs": [
    {
     "name": "stdout",
     "output_type": "stream",
     "text": [
      "Python\n",
      "Programming\n",
      "<class 'str'>\n",
      "<class 'str'>\n"
     ]
    }
   ],
   "source": [
    "s1= 'Python' \n",
    "s2= \"Programming\"\n",
    "print(s1)\n",
    "print(s2)\n",
    "print( type(s1))\n",
    "print( type(s2))"
   ]
  },
  {
   "cell_type": "markdown",
   "metadata": {},
   "source": [
    "### string slicing"
   ]
  },
  {
   "cell_type": "code",
   "execution_count": 17,
   "metadata": {},
   "outputs": [
    {
     "name": "stdout",
     "output_type": "stream",
     "text": [
      "V\n",
      "i\n",
      "h\n",
      "a\n",
      "r\n",
      "i\n",
      "k\n",
      "a\n"
     ]
    }
   ],
   "source": [
    "s1=\"Viharika\"\n",
    "for x in range (0,8):\n",
    "    s1[x]\n",
    "    print(s1[x])"
   ]
  },
  {
   "cell_type": "code",
   "execution_count": 29,
   "metadata": {},
   "outputs": [
    {
     "name": "stdout",
     "output_type": "stream",
     "text": [
      "7\n",
      "k\n",
      "Ka\n",
      "ik\n",
      "thik\n",
      "Ka\n",
      "arthi\n"
     ]
    }
   ],
   "source": [
    "s1='Karthik'\n",
    "print(len(s1))\n",
    "print(s1[-1])\n",
    "print(s1[0:2])\n",
    "print(s1[-2:])\n",
    "print(s1[3:])\n",
    "print(s1[0:2])\n",
    "print(s1[1:-1])"
   ]
  },
  {
   "cell_type": "code",
   "execution_count": 34,
   "metadata": {},
   "outputs": [
    {
     "data": {
      "text/plain": [
       "'khrk'"
      ]
     },
     "execution_count": 34,
     "metadata": {},
     "output_type": "execute_result"
    }
   ],
   "source": [
    "s1=\"karthik\"\n",
    "s1[-1::-1]\n",
    "s1[::2]\n",
    "s1[::-2]"
   ]
  },
  {
   "cell_type": "markdown",
   "metadata": {},
   "source": [
    "### Functions with string operations"
   ]
  },
  {
   "cell_type": "code",
   "execution_count": 35,
   "metadata": {},
   "outputs": [
    {
     "data": {
      "text/plain": [
       "'nohtyP'"
      ]
     },
     "execution_count": 35,
     "metadata": {},
     "output_type": "execute_result"
    }
   ],
   "source": [
    "# reverse the string\n",
    "def reverseStr(s):\n",
    "    return s[-1::-1]\n",
    "reverseStr('Python')"
   ]
  },
  {
   "cell_type": "code",
   "execution_count": 39,
   "metadata": {},
   "outputs": [
    {
     "name": "stdout",
     "output_type": "stream",
     "text": [
      "False\n"
     ]
    }
   ],
   "source": [
    "# To check the given string is palindrome or not a palindrome\n",
    "def isPalindrome(s):\n",
    "    if s == s[-1::-1]:\n",
    "        return True\n",
    "    return False\n",
    "print(isPalindrome('Python'))"
   ]
  },
  {
   "cell_type": "code",
   "execution_count": 45,
   "metadata": {},
   "outputs": [
    {
     "name": "stdout",
     "output_type": "stream",
     "text": [
      "P T "
     ]
    }
   ],
   "source": [
    "# function to print the upper case characters\n",
    "def uppercase(s):\n",
    "    for i in range(len(s)):\n",
    "            if ord(s[i])>=65 and ord(s[i])<=90:\n",
    "                print(s[i], end=' ')\n",
    "    return\n",
    "uppercase('PyThon')"
   ]
  },
  {
   "cell_type": "code",
   "execution_count": 55,
   "metadata": {},
   "outputs": [
    {
     "name": "stdout",
     "output_type": "stream",
     "text": [
      "Same count\n"
     ]
    }
   ],
   "source": [
    "# function to return the output as \"samecount\" or \"programming\"\n",
    "\n",
    "def uppercase(s):\n",
    "    t=0\n",
    "    c=0\n",
    "    for i in range(len(s)):\n",
    "        if ord(s[i])>=97 and ord(s[i])<=122:\n",
    "            c=c+1\n",
    "    for i in range(len(s)):\n",
    "        if ord(s[i])>=65 and ord(s[i])<=90:\n",
    "            t=t+1\n",
    "    if(t==c):\n",
    "        print('Same count')\n",
    "    else:\n",
    "        return ('Programming')\n",
    "uppercase('PyTh')      "
   ]
  },
  {
   "cell_type": "code",
   "execution_count": 64,
   "metadata": {},
   "outputs": [
    {
     "name": "stdout",
     "output_type": "stream",
     "text": [
      "3\n"
     ]
    }
   ],
   "source": [
    "def extractdigits(s):\n",
    "    su=0\n",
    "    for i in range(len(s)):\n",
    "        if ord(s[i])>=48 and ord(s[i])<=57:\n",
    "            su=su+int(s[i])\n",
    "    print(su)\n",
    "extractdigits('12dsffg')"
   ]
  },
  {
   "cell_type": "code",
   "execution_count": 68,
   "metadata": {},
   "outputs": [
    {
     "name": "stdout",
     "output_type": "stream",
     "text": [
      "M ADE"
     ]
    }
   ],
   "source": [
    "def wordUppecase(s):\n",
    "    cntSpace=0\n",
    "    for i in range(len(s)):\n",
    "        if ord(s[i]) ==32:\n",
    "            cntSpace +=1\n",
    "        if cntSpace ==1:\n",
    "            if ord(s[i])>=65 and ord(s[i])<=90:\n",
    "                print(s[i], end=' ')\n",
    "            elif ord(s[i])>=97 and ord(s[i])<=122:\n",
    "                print(chr(ord(s[i])-32), end='')\n",
    "            if cntSpace==2:\n",
    "                break\n",
    "    return\n",
    "wordUppecase('Python Made Easy')"
   ]
  },
  {
   "cell_type": "code",
   "execution_count": 72,
   "metadata": {},
   "outputs": [
    {
     "name": "stdout",
     "output_type": "stream",
     "text": [
      "[1, 8, 16, 9, 2]\n",
      "2\n",
      "[2, 9, 16, 8, 1]\n",
      "[16, 9, 2]\n"
     ]
    }
   ],
   "source": [
    "li=[1,8,16,9,2]\n",
    "print(li)\n",
    "print(li[-1])\n",
    "print(li[-1::-1])\n",
    "print(li[2::])"
   ]
  },
  {
   "cell_type": "code",
   "execution_count": 75,
   "metadata": {},
   "outputs": [
    {
     "name": "stdout",
     "output_type": "stream",
     "text": [
      "['gitam', 1582, 2018, 2019, 'vizag']\n",
      "['gitam', 1234, 2018, 2019, 'vizag']\n",
      "['gitam', 1234, 2018, 'vizag']\n"
     ]
    }
   ],
   "source": [
    "li= [\"gitam\",1582,2018,2019,\"vizag\"]\n",
    "print(li)\n",
    "li[1]=1234\n",
    "print(li)\n",
    "del li[3]\n",
    "print(li)"
   ]
  },
  {
   "cell_type": "code",
   "execution_count": 82,
   "metadata": {},
   "outputs": [
    {
     "name": "stdout",
     "output_type": "stream",
     "text": [
      "5\n",
      "[1, 2, 3, 4, 5, 1, 2, 3, 4, 5]\n",
      "True\n",
      "False\n",
      "1 2 3 4 5 "
     ]
    }
   ],
   "source": [
    "#basic list operations\n",
    "li=[1,2,3,4,5]\n",
    "print(len(li))\n",
    "print(li *2)\n",
    "print(4 in li)\n",
    "print(10 in li)\n",
    "for i in range(len(li)):\n",
    "    print(li[i], end=' ')"
   ]
  },
  {
   "cell_type": "code",
   "execution_count": 1,
   "metadata": {},
   "outputs": [
    {
     "name": "stdout",
     "output_type": "stream",
     "text": [
      "5\n",
      "1\n",
      "15\n",
      "3.0\n"
     ]
    }
   ],
   "source": [
    "li=[1,2,3,4,5]\n",
    "print(max(li))\n",
    "print(min(li))\n",
    "print(sum(li))\n",
    "print(sum(li)/len(li))"
   ]
  },
  {
   "cell_type": "code",
   "execution_count": 2,
   "metadata": {},
   "outputs": [
    {
     "data": {
      "text/plain": [
       "2"
      ]
     },
     "execution_count": 2,
     "metadata": {},
     "output_type": "execute_result"
    }
   ],
   "source": [
    "li=[1,9,16,25,5]\n",
    "li.append(29)\n",
    "li.insert(2,56)\n",
    "li.append(9)\n",
    "li.count(9)\n",
    "li.index(56)"
   ]
  },
  {
   "cell_type": "code",
   "execution_count": 5,
   "metadata": {},
   "outputs": [
    {
     "data": {
      "text/plain": [
       "[1, 5, 9, 9, 16, 25, 29, 56]"
      ]
     },
     "execution_count": 5,
     "metadata": {},
     "output_type": "execute_result"
    }
   ],
   "source": [
    "li.sort()\n",
    "li"
   ]
  },
  {
   "cell_type": "code",
   "execution_count": 6,
   "metadata": {},
   "outputs": [
    {
     "data": {
      "text/plain": [
       "[1, 5, 9, 9, 16, 25, 29]"
      ]
     },
     "execution_count": 6,
     "metadata": {},
     "output_type": "execute_result"
    }
   ],
   "source": [
    "li.pop()\n",
    "li"
   ]
  },
  {
   "cell_type": "code",
   "execution_count": 7,
   "metadata": {},
   "outputs": [
    {
     "data": {
      "text/plain": [
       "[1, 9, 9, 16, 25, 29]"
      ]
     },
     "execution_count": 7,
     "metadata": {},
     "output_type": "execute_result"
    }
   ],
   "source": [
    "li.pop(1)\n",
    "li"
   ]
  },
  {
   "cell_type": "code",
   "execution_count": 13,
   "metadata": {},
   "outputs": [
    {
     "data": {
      "text/plain": [
       "[1, 2, 3, 4, 5, 1, 9, 9, 16, 25, 29]"
      ]
     },
     "execution_count": 13,
     "metadata": {},
     "output_type": "execute_result"
    }
   ],
   "source": [
    "lil=[1,2,3,4,5]\n",
    "lil.extend(li)\n",
    "li.reverse()\n",
    "li\n",
    "lil"
   ]
  },
  {
   "cell_type": "code",
   "execution_count": 16,
   "metadata": {},
   "outputs": [
    {
     "name": "stdout",
     "output_type": "stream",
     "text": [
      "45\n",
      "22\n"
     ]
    }
   ],
   "source": [
    "def largenumber(li):\n",
    "    li.sort()\n",
    "    return li[-1]\n",
    "def genericLarge(li,n):\n",
    "    li.sort()\n",
    "    return li[-n]\n",
    "li=[19,1,25,6,45,22]\n",
    "print(largenumber(li))\n",
    "print(genericLarge(li,3))"
   ]
  },
  {
   "cell_type": "code",
   "execution_count": 19,
   "metadata": {},
   "outputs": [
    {
     "name": "stdout",
     "output_type": "stream",
     "text": [
      "1\n",
      "19\n"
     ]
    }
   ],
   "source": [
    "def leastnumber(li):\n",
    "    li.sort()\n",
    "    return li[0]\n",
    "def genericLeast(li,n):\n",
    "    li.sort()\n",
    "    return li[n-1]\n",
    "li=[19,1,25,6,45,22]\n",
    "print(leastnumber(li))\n",
    "print(genericLeast(li,3))"
   ]
  },
  {
   "cell_type": "code",
   "execution_count": 20,
   "metadata": {},
   "outputs": [
    {
     "name": "stdout",
     "output_type": "stream",
     "text": [
      "File is successfully created and data has inserted\n"
     ]
    }
   ],
   "source": [
    "def createFile(filename):\n",
    "    f=open(filename, 'w')\n",
    "    for i in range(10):\n",
    "        f.write('This is %d Line\\n' % i)\n",
    "    print('File is successfully created and data has inserted')\n",
    "    return\n",
    "createFile('data.txt')"
   ]
  },
  {
   "cell_type": "code",
   "execution_count": 21,
   "metadata": {},
   "outputs": [
    {
     "data": {
      "text/plain": [
       "'C:\\\\Users\\\\Admin\\\\Desktop\\\\Problem Solving'"
      ]
     },
     "execution_count": 21,
     "metadata": {},
     "output_type": "execute_result"
    }
   ],
   "source": [
    "pwd"
   ]
  },
  {
   "cell_type": "code",
   "execution_count": 22,
   "metadata": {},
   "outputs": [
    {
     "name": "stdout",
     "output_type": "stream",
     "text": [
      "Program completed successfully\n"
     ]
    }
   ],
   "source": [
    "def appendMode(filename):\n",
    "    f= open(filename,'a')\n",
    "    f.write('gitam vizag\\n')\n",
    "    f.write('Pyton programming \\n')\n",
    "    print('Program completed successfully')\n",
    "    return \n",
    "appendMode('data.txt')"
   ]
  },
  {
   "cell_type": "code",
   "execution_count": 23,
   "metadata": {},
   "outputs": [
    {
     "name": "stdout",
     "output_type": "stream",
     "text": [
      "This is 0 Line\n",
      "This is 1 Line\n",
      "This is 2 Line\n",
      "This is 3 Line\n",
      "This is 4 Line\n",
      "This is 5 Line\n",
      "This is 6 Line\n",
      "This is 7 Line\n",
      "This is 8 Line\n",
      "This is 9 Line\n",
      "gitam vizag\n",
      "Pyton programming \n",
      "\n"
     ]
    }
   ],
   "source": [
    "def readFileData(filename):\n",
    "    f=open(filename, 'r')\n",
    "    if f.mode =='r':\n",
    "        a=f.read()\n",
    "        print(a)\n",
    "    f.close()\n",
    "    return\n",
    "readFileData('data.txt')"
   ]
  },
  {
   "cell_type": "code",
   "execution_count": 25,
   "metadata": {},
   "outputs": [
    {
     "data": {
      "text/plain": [
       "44"
      ]
     },
     "execution_count": 25,
     "metadata": {},
     "output_type": "execute_result"
    }
   ],
   "source": [
    "def wordCount(filename):\n",
    "    with open(filename , 'r') as f:\n",
    "        if f.mode == 'r':\n",
    "            a= f.read()\n",
    "            li = a.split()\n",
    "    return len(li)\n",
    "wordCount('data.txt')"
   ]
  },
  {
   "cell_type": "code",
   "execution_count": 31,
   "metadata": {},
   "outputs": [
    {
     "data": {
      "text/plain": [
       "1"
      ]
     },
     "execution_count": 31,
     "metadata": {},
     "output_type": "execute_result"
    }
   ],
   "source": [
    "def wordCount(filename):\n",
    "    with open(filename , 'r') as f:\n",
    "        if f.mode == 'r':\n",
    "            a= f.read()\n",
    "            li = a.split()\n",
    "            n=li.count('gitam')\n",
    "    return n\n",
    "wordCount('data.txt')"
   ]
  },
  {
   "cell_type": "code",
   "execution_count": 32,
   "metadata": {},
   "outputs": [
    {
     "data": {
      "text/plain": [
       "181"
      ]
     },
     "execution_count": 32,
     "metadata": {},
     "output_type": "execute_result"
    }
   ],
   "source": [
    "def charCount(filename):\n",
    "    with open(filename, 'r') as f:\n",
    "        if f.mode=='r':\n",
    "            a=f.read()\n",
    "            li=list(a)\n",
    "        return len(li)\n",
    "charCount('data.txt')\n",
    "        "
   ]
  },
  {
   "cell_type": "code",
   "execution_count": 35,
   "metadata": {},
   "outputs": [
    {
     "data": {
      "text/plain": [
       "14"
      ]
     },
     "execution_count": 35,
     "metadata": {},
     "output_type": "execute_result"
    }
   ],
   "source": [
    "def findLineCount(filename):\n",
    "    with open(filename, 'r') as f:\n",
    "        if f.mode=='r':\n",
    "            a=f.read()\n",
    "            li=a.split('\\n')\n",
    "        return len(li)\n",
    "findLineCount('data.txt')\n",
    "        "
   ]
  },
  {
   "cell_type": "code",
   "execution_count": null,
   "metadata": {},
   "outputs": [],
   "source": [
    "def findLineCount(filename):\n",
    "    with open(filename, 'r') as f:\n",
    "        if f.mode=='r':\n",
    "            a=f.read()\n",
    "            li=a.split('\\n')\n",
    "        return len(li)\n",
    "findLineCount('data.txt')\n",
    "        "
   ]
  },
  {
   "cell_type": "code",
   "execution_count": 41,
   "metadata": {},
   "outputs": [],
   "source": [
    "def casecount(filename):\n",
    "    cntupper=0\n",
    "    cntlower=0\n",
    "    cntdigit=0\n",
    "    with open(filename,'r') as f:\n",
    "        if f.mode == 'r':\n",
    "            a=f.read()\n",
    "            li=list(a)\n",
    "    for i in range(len(li)):\n",
    "        if ord(li[i])>=65 and ord(li[i])<=90:\n",
    "            cntupper+=1\n",
    "        elif ord(li[i])>=97 and ord(li[i])<=122:\n",
    "            cntlower+=1\n",
    "        elif ord(li[i])>=48 and ord(li[i])<=57:\n",
    "            cntdigit+=1\n",
    "    output= 'Uppercase:{0} Lowercase: {1} Digit:{2}'.former(cntupper,cntlower,cntdigit)\n",
    "    return output    "
   ]
  },
  {
   "cell_type": "code",
   "execution_count": 1,
   "metadata": {},
   "outputs": [
    {
     "data": {
      "text/plain": [
       "[1, 2, 3, 4]"
      ]
     },
     "execution_count": 1,
     "metadata": {},
     "output_type": "execute_result"
    }
   ],
   "source": [
    "li=[1,2,3,4,5]\n",
    "li[:-1]"
   ]
  },
  {
   "cell_type": "code",
   "execution_count": 21,
   "metadata": {},
   "outputs": [
    {
     "name": "stdout",
     "output_type": "stream",
     "text": [
      "6\n"
     ]
    }
   ],
   "source": [
    "def evensumst(s):\n",
    "    sum1=0\n",
    "    for x in range(len(s)):\n",
    "        if ord(s[x])>=48 and  ord(s[x])<=57:\n",
    "             if int(s[x])%2==0:\n",
    "                    sum1=sum1+int(s[x])           \n",
    "                   \n",
    "    print(sum1)             \n",
    "                \n",
    "evensumst('sdaf245')           "
   ]
  }
 ],
 "metadata": {
  "kernelspec": {
   "display_name": "Python 3",
   "language": "python",
   "name": "python3"
  },
  "language_info": {
   "codemirror_mode": {
    "name": "ipython",
    "version": 3
   },
   "file_extension": ".py",
   "mimetype": "text/x-python",
   "name": "python",
   "nbconvert_exporter": "python",
   "pygments_lexer": "ipython3",
   "version": "3.7.3"
  }
 },
 "nbformat": 4,
 "nbformat_minor": 2
}
