{
 "cells": [
  {
   "cell_type": "markdown",
   "metadata": {},
   "source": [
    "# Anthony Edward Stark\n",
    "## Anthony Edward Stark\n",
    "### Anthony Edward Stark\n",
    "#### Anthony Edward Stark\n",
    "##### Anthony Edward Stark \n",
    "\n",
    "\n"
   ]
  },
  {
   "cell_type": "markdown",
   "metadata": {},
   "source": [
    "## Python programming\n",
    "- point 1\n",
    "  - point 11\n",
    "- point 2\n",
    "  - point 12\n",
    "- I'm good at what I do, it's not arrogance, it's a fact.\n",
    "* **Tony**\n",
    "* *Tony*\n",
    "* ***Tony***"
   ]
  },
  {
   "cell_type": "markdown",
   "metadata": {},
   "source": [
    "<img src='Tony.jpeg'/>"
   ]
  },
  {
   "cell_type": "code",
   "execution_count": 2,
   "metadata": {},
   "outputs": [
    {
     "name": "stdout",
     "output_type": "stream",
     "text": [
      "hello world\n",
      "hello, gitam\n",
      "hello gitam ||| vizag\n"
     ]
    }
   ],
   "source": [
    "print('hello world')\n",
    "print('hello, gitam')\n",
    "print('hello gitam','|||',end=' ')\n",
    "print('vizag') "
   ]
  },
  {
   "cell_type": "code",
   "execution_count": 15,
   "metadata": {},
   "outputs": [
    {
     "name": "stdout",
     "output_type": "stream",
     "text": [
      "100\n",
      "<class 'int'>\n",
      "String\n",
      "<class 'str'>\n",
      "<class 'str'>\n",
      "1230.323\n",
      "<class 'float'>\n"
     ]
    }
   ],
   "source": [
    "##DataTypes\n",
    "s = 100\n",
    "print(s)\n",
    "print( type(s))\n",
    "a= 'String'\n",
    "b= 'a'\n",
    "print(a)\n",
    "print(type(a))\n",
    "print(type (b))\n",
    "c= 1230.323\n",
    "print(c)\n",
    "print(type(c))"
   ]
  },
  {
   "cell_type": "code",
   "execution_count": 19,
   "metadata": {},
   "outputs": [
    {
     "name": "stdout",
     "output_type": "stream",
     "text": [
      "211 <class 'int'>\n",
      "211 <class 'str'>\n",
      "121\n",
      "121.1\n",
      "<class 'int'>\n",
      "<class 'str'>\n"
     ]
    }
   ],
   "source": [
    "##Datatypeconversions\n",
    "a=211\n",
    "print (a, end=' ')\n",
    "print( type(a))\n",
    "s1=str(a)\n",
    "print(a,end=' ')\n",
    "print(type(s1))\n",
    "t=121.1\n",
    "s3=int(t)\n",
    "s4=str(t)\n",
    "print(s3)\n",
    "print(s4)\n",
    "print(type(s3))\n",
    "print(type(s4))"
   ]
  },
  {
   "cell_type": "code",
   "execution_count": 21,
   "metadata": {},
   "outputs": [
    {
     "name": "stdout",
     "output_type": "stream",
     "text": [
      "4\n"
     ]
    }
   ],
   "source": [
    "##printing value of digits\n",
    "a=1234\n",
    "print(len(str(a)))"
   ]
  },
  {
   "cell_type": "code",
   "execution_count": 25,
   "metadata": {},
   "outputs": [
    {
     "name": "stdout",
     "output_type": "stream",
     "text": [
      "enter the nameyo\n",
      "yo<class 'int'>\n"
     ]
    }
   ],
   "source": [
    "##input function\n",
    "s1= input('enter the name')\n",
    "print(s1, end='')\n",
    "print(type(s))"
   ]
  },
  {
   "cell_type": "code",
   "execution_count": 27,
   "metadata": {},
   "outputs": [
    {
     "name": "stdout",
     "output_type": "stream",
     "text": [
      "enter a number2\n",
      "2 <class 'int'>\n"
     ]
    }
   ],
   "source": [
    "a1=int(input('enter a number'))\n",
    "print(a1, type(a1))"
   ]
  },
  {
   "cell_type": "code",
   "execution_count": 34,
   "metadata": {},
   "outputs": [
    {
     "name": "stdout",
     "output_type": "stream",
     "text": [
      "8.0\n",
      "1\n"
     ]
    }
   ],
   "source": [
    "##operators\n",
    "a= 1+2**3/4+5\n",
    "print(a)\n",
    "b= 1+2**3/(4+5)\n",
    "print(int(b))"
   ]
  },
  {
   "cell_type": "code",
   "execution_count": 38,
   "metadata": {},
   "outputs": [
    {
     "name": "stdout",
     "output_type": "stream",
     "text": [
      "True <class 'bool'>\n",
      "True <class 'bool'>\n"
     ]
    }
   ],
   "source": [
    "##logical operators\n",
    "a=10\n",
    "b=(a>9) and (a>=b)\n",
    "print(b, type(b))\n",
    "c= (a>9) or (a>100)\n",
    "print(c, type(c))"
   ]
  },
  {
   "cell_type": "code",
   "execution_count": 40,
   "metadata": {},
   "outputs": [
    {
     "name": "stdout",
     "output_type": "stream",
     "text": [
      " 2\n",
      "even\n"
     ]
    }
   ],
   "source": [
    "a1= int(input(' '))\n",
    "if a1%2==0:\n",
    "    print('even')\n",
    "else:\n",
    "    print('odd')"
   ]
  },
  {
   "cell_type": "code",
   "execution_count": 41,
   "metadata": {},
   "outputs": [
    {
     "name": "stdout",
     "output_type": "stream",
     "text": [
      " 5\n",
      "positive number\n"
     ]
    }
   ],
   "source": [
    "#elif statement\n",
    "a2= int(input(' '))\n",
    "if a2==0:\n",
    "    print('zero')\n",
    "elif a2>0:\n",
    "    print('positive number')\n",
    "elif a2<0:\n",
    "    print('negative number')"
   ]
  }
 ],
 "metadata": {
  "kernelspec": {
   "display_name": "Python 3",
   "language": "python",
   "name": "python3"
  },
  "language_info": {
   "codemirror_mode": {
    "name": "ipython",
    "version": 3
   },
   "file_extension": ".py",
   "mimetype": "text/x-python",
   "name": "python",
   "nbconvert_exporter": "python",
   "pygments_lexer": "ipython3",
   "version": "3.7.3"
  }
 },
 "nbformat": 4,
 "nbformat_minor": 2
}
